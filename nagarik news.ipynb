{
 "cells": [
  {
   "cell_type": "code",
   "execution_count": 1,
   "metadata": {},
   "outputs": [],
   "source": [
    "import glob\n",
    "import re"
   ]
  },
  {
   "cell_type": "code",
   "execution_count": 2,
   "metadata": {},
   "outputs": [],
   "source": [
    "categories = ['art' , 'economy' , 'foreign' , 'health' ,'interview' , 'opinion' , 'politics' ,\n",
    "              'society' , 'sports' ,'technology' , 'world' ]"
   ]
  },
  {
   "cell_type": "code",
   "execution_count": 3,
   "metadata": {},
   "outputs": [],
   "source": [
    "data = []\n",
    "\n",
    "\n",
    "for i, filename in enumerate(categories):\n",
    "    path = f'nagarik/{filename}/*.txt'\n",
    "    files = glob.glob(path)\n",
    "    for j , file in enumerate(files):\n",
    "        with open(file  ,'r' , encoding='utf-8') as f:\n",
    "            data.append((f.read() , filename))"
   ]
  },
  {
   "cell_type": "code",
   "execution_count": 4,
   "metadata": {},
   "outputs": [],
   "source": [
    "punct = [\n",
    "    ',',\n",
    "    '.',\n",
    "    '?',\n",
    "    '\\'',\n",
    "    '\\n',\n",
    "    '\\t',\n",
    "    '}',\n",
    "    '{',\n",
    "    '|',\n",
    "    '>',\n",
    "    '<',\n",
    "    '-',\n",
    "    '_',\n",
    "    '=',\n",
    "    '+',\n",
    "    '*',\n",
    "    '$'\n",
    "]"
   ]
  },
  {
   "cell_type": "code",
   "execution_count": 5,
   "metadata": {},
   "outputs": [],
   "source": [
    "import pandas as pd\n",
    "\n",
    "df = pd.DataFrame(data , columns=['Text' , 'Label'])\n"
   ]
  },
  {
   "cell_type": "code",
   "execution_count": 6,
   "metadata": {},
   "outputs": [
    {
     "data": {
      "text/html": [
       "<div>\n",
       "<style scoped>\n",
       "    .dataframe tbody tr th:only-of-type {\n",
       "        vertical-align: middle;\n",
       "    }\n",
       "\n",
       "    .dataframe tbody tr th {\n",
       "        vertical-align: top;\n",
       "    }\n",
       "\n",
       "    .dataframe thead th {\n",
       "        text-align: right;\n",
       "    }\n",
       "</style>\n",
       "<table border=\"1\" class=\"dataframe\">\n",
       "  <thead>\n",
       "    <tr style=\"text-align: right;\">\n",
       "      <th></th>\n",
       "      <th>Text</th>\n",
       "      <th>Label</th>\n",
       "    </tr>\n",
       "  </thead>\n",
       "  <tbody>\n",
       "    <tr>\n",
       "      <th>0</th>\n",
       "      <td>मकवानपुर – फिल्म ‘हुर्रे’ले रिलिज मिति नजिकिएस...</td>\n",
       "      <td>art</td>\n",
       "    </tr>\n",
       "    <tr>\n",
       "      <th>1</th>\n",
       "      <td>काठमाडौं – मोक्षदा स्कुलको मञ्जरी थिएटरमा उड्क...</td>\n",
       "      <td>art</td>\n",
       "    </tr>\n",
       "    <tr>\n",
       "      <th>2</th>\n",
       "      <td>कठमाडौं – रसियाको नोभोसिबिर्सक सहरमा भइरहेको ‘...</td>\n",
       "      <td>art</td>\n",
       "    </tr>\n",
       "    <tr>\n",
       "      <th>3</th>\n",
       "      <td>मुम्बई – चर्चित अभिनेत्री रानी मुखर्जीले बलिउड...</td>\n",
       "      <td>art</td>\n",
       "    </tr>\n",
       "    <tr>\n",
       "      <th>4</th>\n",
       "      <td>मुम्बई – साउथ इण्डियनतर्फको मलयालम फिल्मको एकै...</td>\n",
       "      <td>art</td>\n",
       "    </tr>\n",
       "  </tbody>\n",
       "</table>\n",
       "</div>"
      ],
      "text/plain": [
       "                                                Text Label\n",
       "0  मकवानपुर – फिल्म ‘हुर्रे’ले रिलिज मिति नजिकिएस...   art\n",
       "1  काठमाडौं – मोक्षदा स्कुलको मञ्जरी थिएटरमा उड्क...   art\n",
       "2  कठमाडौं – रसियाको नोभोसिबिर्सक सहरमा भइरहेको ‘...   art\n",
       "3  मुम्बई – चर्चित अभिनेत्री रानी मुखर्जीले बलिउड...   art\n",
       "4  मुम्बई – साउथ इण्डियनतर्फको मलयालम फिल्मको एकै...   art"
      ]
     },
     "execution_count": 6,
     "metadata": {},
     "output_type": "execute_result"
    }
   ],
   "source": [
    "df.head()"
   ]
  },
  {
   "cell_type": "code",
   "execution_count": 7,
   "metadata": {},
   "outputs": [
    {
     "data": {
      "text/plain": [
       "(4481, 2)"
      ]
     },
     "execution_count": 7,
     "metadata": {},
     "output_type": "execute_result"
    }
   ],
   "source": [
    "df.shape"
   ]
  },
  {
   "cell_type": "code",
   "execution_count": 8,
   "metadata": {},
   "outputs": [
    {
     "data": {
      "text/plain": [
       "Text     0\n",
       "Label    0\n",
       "dtype: int64"
      ]
     },
     "execution_count": 8,
     "metadata": {},
     "output_type": "execute_result"
    }
   ],
   "source": [
    "df.isnull().sum()"
   ]
  },
  {
   "cell_type": "code",
   "execution_count": 9,
   "metadata": {},
   "outputs": [
    {
     "data": {
      "text/plain": [
       "economy       510\n",
       "opinion       507\n",
       "foreign       498\n",
       "society       494\n",
       "politics      483\n",
       "world         478\n",
       "art           467\n",
       "sports        413\n",
       "technology    238\n",
       "interview     201\n",
       "health        192\n",
       "Name: Label, dtype: int64"
      ]
     },
     "execution_count": 9,
     "metadata": {},
     "output_type": "execute_result"
    }
   ],
   "source": [
    "df.Label.value_counts()"
   ]
  },
  {
   "cell_type": "code",
   "execution_count": 10,
   "metadata": {},
   "outputs": [],
   "source": [
    "import spacy\n",
    "from spacy.lang import ne\n",
    "from spacy.lang.ne.stop_words import STOP_WORDS"
   ]
  },
  {
   "cell_type": "code",
   "execution_count": 11,
   "metadata": {},
   "outputs": [],
   "source": [
    "stopwords = list(STOP_WORDS)"
   ]
  },
  {
   "cell_type": "code",
   "execution_count": 12,
   "metadata": {},
   "outputs": [],
   "source": [
    "X = df['Text']\n",
    "y = df['Label']"
   ]
  },
  {
   "cell_type": "code",
   "execution_count": 13,
   "metadata": {},
   "outputs": [
    {
     "data": {
      "text/plain": [
       "((4481,), (4481,))"
      ]
     },
     "execution_count": 13,
     "metadata": {},
     "output_type": "execute_result"
    }
   ],
   "source": [
    "X.shape , y.shape"
   ]
  },
  {
   "cell_type": "code",
   "execution_count": 14,
   "metadata": {},
   "outputs": [],
   "source": [
    "import re\n",
    "def change_into_tokens(text):\n",
    "    \n",
    "    tokens =[]\n",
    "    text = re.sub('\\s+' ,' ',text)\n",
    "    text = re.sub(\"–\" ,'',text)\n",
    "    text = re.sub(\"।\" ,'', text)\n",
    "    text = re.sub('!' ,'', text)\n",
    "    \n",
    "    text = text.split(' ')\n",
    "    \n",
    "    for token in text:\n",
    "        if token not in stopwords:\n",
    "            tokens.append(token)\n",
    "        \n",
    "    return tokens"
   ]
  },
  {
   "cell_type": "code",
   "execution_count": 15,
   "metadata": {},
   "outputs": [],
   "source": [
    "text = 'मकवानपुर – !?!फिल्म ‘?हुर्रे’!)!!'"
   ]
  },
  {
   "cell_type": "code",
   "execution_count": 16,
   "metadata": {},
   "outputs": [
    {
     "data": {
      "text/plain": [
       "['मकवानपुर',\n",
       " '',\n",
       " 'फिल्म',\n",
       " '‘हुर्रे’ले',\n",
       " 'रिलिज',\n",
       " 'मिति',\n",
       " 'नजिकिएसँगै',\n",
       " 'प्रचारप्रसारमा',\n",
       " 'तीव्रता',\n",
       " '',\n",
       " 'शनिबार',\n",
       " 'हेटौंडा',\n",
       " 'आइपुगेको',\n",
       " 'फिल्मको',\n",
       " 'निर्माता',\n",
       " 'कलाकारको',\n",
       " 'टोलीले',\n",
       " 'फिल्म',\n",
       " 'हास्यप्रधान',\n",
       " 'रहे',\n",
       " 'पृथक',\n",
       " 'कथाबस्तुमा',\n",
       " 'निर्माण',\n",
       " '',\n",
       " 'फिल्मको',\n",
       " 'प्रचारका',\n",
       " 'देश',\n",
       " 'दौडाहामा',\n",
       " 'फिल्मको',\n",
       " 'टोली',\n",
       " 'पोखरा,',\n",
       " 'बुटवल,',\n",
       " 'चितवनपछि',\n",
       " 'हेटौंडा',\n",
       " 'आइपुगेको',\n",
       " 'हेटौंडामा',\n",
       " 'आयोजित',\n",
       " 'अन्तरक्रियामा',\n",
       " 'अभिनेता',\n",
       " 'अनुपविक्रम',\n",
       " 'शाहीले',\n",
       " 'फिल्म',\n",
       " 'मनोरञ्जक',\n",
       " 'अभिनेत्री',\n",
       " 'केकी',\n",
       " 'अधिकारीले',\n",
       " 'फिल्मभित्र',\n",
       " 'मोहमा',\n",
       " 'फसाएर',\n",
       " 'राख्ने',\n",
       " 'स्वर्गकी',\n",
       " 'अप्सरा',\n",
       " '‘मेनका’को',\n",
       " 'भूमिकामा',\n",
       " 'बताइन्',\n",
       " '',\n",
       " 'हास्य',\n",
       " 'कलाकार',\n",
       " 'राजाराम',\n",
       " 'पौडेलले',\n",
       " 'महिना',\n",
       " 'सुटिङ',\n",
       " 'आर्यघाटको',\n",
       " 'धुँवाले',\n",
       " 'कलाकारहरू',\n",
       " 'बिरामी',\n",
       " 'परेको',\n",
       " '',\n",
       " '‘फिल्म',\n",
       " 'हेरेपछि',\n",
       " 'हाँस्दाहाँस्दा',\n",
       " 'भोक',\n",
       " 'लाग्छ,',\n",
       " 'रमाइलो',\n",
       " 'भने,',\n",
       " '‘सबै',\n",
       " 'फिल्ममा',\n",
       " 'सन्देश',\n",
       " 'राख्दा',\n",
       " 'मजा',\n",
       " 'हुँदैन,',\n",
       " 'सन्देश',\n",
       " 'खोज्ने',\n",
       " 'पुराण',\n",
       " 'सुने',\n",
       " 'भैगो',\n",
       " 'नि’',\n",
       " 'यम',\n",
       " 'थापाको',\n",
       " 'लेखन',\n",
       " 'निर्देशन',\n",
       " 'फिल्ममा',\n",
       " 'अनुपविक्रम',\n",
       " 'शाही,',\n",
       " 'केकी',\n",
       " 'अधिकारी,',\n",
       " 'बिजय',\n",
       " 'बराल,',\n",
       " 'अंकित',\n",
       " 'खड्का,',\n",
       " 'संगीता',\n",
       " 'नापित',\n",
       " 'लगायतको',\n",
       " 'अभिनय',\n",
       " '',\n",
       " 'फागुनको',\n",
       " '२५',\n",
       " 'गतेबाट',\n",
       " 'प्रदर्शित',\n",
       " 'फिल्मलाई',\n",
       " 'याखा',\n",
       " 'इन्टरटेनमेन्टको',\n",
       " 'ब्यानरमा',\n",
       " 'दावा',\n",
       " 'शेर्पा,',\n",
       " 'सोनम',\n",
       " 'लामा',\n",
       " 'भ्लोन',\n",
       " 'छिरिङ',\n",
       " 'दोर्जे',\n",
       " 'शेर्पाले',\n",
       " 'निर्माण',\n",
       " '']"
      ]
     },
     "execution_count": 16,
     "metadata": {},
     "output_type": "execute_result"
    }
   ],
   "source": [
    "change_into_tokens(X[0])"
   ]
  },
  {
   "cell_type": "code",
   "execution_count": 24,
   "metadata": {},
   "outputs": [],
   "source": [
    "\n",
    "\n",
    "from sklearn.feature_extraction.text import TfidfVectorizer\n",
    "from sklearn.model_selection import train_test_split"
   ]
  },
  {
   "cell_type": "code",
   "execution_count": 20,
   "metadata": {},
   "outputs": [],
   "source": [
    "#now split the dataset\n",
    "\n",
    "X_train , X_test , y_train ,y_test = train_test_split(X , y , test_size=0.2 , shuffle=True , random_state=42)"
   ]
  },
  {
   "cell_type": "code",
   "execution_count": 23,
   "metadata": {},
   "outputs": [
    {
     "data": {
      "text/plain": [
       "((3584,), (897,))"
      ]
     },
     "execution_count": 23,
     "metadata": {},
     "output_type": "execute_result"
    }
   ],
   "source": [
    "X_train.shape , X_test.shape"
   ]
  },
  {
   "cell_type": "markdown",
   "metadata": {},
   "source": [
    "###  Using tfidfvectorizer"
   ]
  },
  {
   "cell_type": "code",
   "execution_count": 26,
   "metadata": {},
   "outputs": [],
   "source": [
    "tfidf = TfidfVectorizer(tokenizer=change_into_tokens)\n",
    "\n",
    "X_train  =tfidf.fit_transform(X_train)\n",
    "X_test = tfidf.transform(X_test)"
   ]
  },
  {
   "cell_type": "code",
   "execution_count": 47,
   "metadata": {},
   "outputs": [
    {
     "data": {
      "text/plain": [
       "0.8216276477146043"
      ]
     },
     "execution_count": 47,
     "metadata": {},
     "output_type": "execute_result"
    }
   ],
   "source": [
    "from sklearn.linear_model import LogisticRegression\n",
    "from sklearn.naive_bayes import BernoulliNB\n",
    "from sklearn.svm import SVC\n",
    "from sklearn.tree import DecisionTreeClassifier \n",
    "\n",
    "log = LogisticRegression(multi_class=\"multinomial\")\n",
    "log.fit(X_train , y_train)\n",
    "log.score(X_test , y_test)"
   ]
  },
  {
   "cell_type": "code",
   "execution_count": 64,
   "metadata": {},
   "outputs": [],
   "source": [
    "from sklearn.metrics import accuracy_score , classification_report , confusion_matrix"
   ]
  },
  {
   "cell_type": "code",
   "execution_count": 89,
   "metadata": {},
   "outputs": [],
   "source": [
    "y_pred = log.predict(X_test)"
   ]
  },
  {
   "cell_type": "code",
   "execution_count": 90,
   "metadata": {},
   "outputs": [
    {
     "name": "stdout",
     "output_type": "stream",
     "text": [
      "0.8216276477146043\n"
     ]
    }
   ],
   "source": [
    "print(accuracy_score(y_test , y_pred)) "
   ]
  },
  {
   "cell_type": "code",
   "execution_count": 91,
   "metadata": {},
   "outputs": [
    {
     "data": {
      "text/plain": [
       "'              precision    recall  f1-score   support\\n\\n         art       0.89      0.90      0.89        98\\n     economy       0.77      0.76      0.76        96\\n     foreign       0.92      0.88      0.90       104\\n      health       0.81      0.80      0.80        44\\n   interview       0.95      0.56      0.71        32\\n     opinion       0.76      0.88      0.82        95\\n    politics       0.75      0.71      0.73        96\\n     society       0.58      0.70      0.63        92\\n      sports       0.96      0.97      0.96        91\\n  technology       0.97      0.69      0.80        48\\n       world       0.91      0.94      0.93       101\\n\\n    accuracy                           0.82       897\\n   macro avg       0.84      0.80      0.81       897\\nweighted avg       0.83      0.82      0.82       897\\n'"
      ]
     },
     "execution_count": 91,
     "metadata": {},
     "output_type": "execute_result"
    }
   ],
   "source": [
    "classification_report(y_test , y_pred)"
   ]
  },
  {
   "cell_type": "code",
   "execution_count": 92,
   "metadata": {},
   "outputs": [
    {
     "data": {
      "text/plain": [
       "array([[88,  1,  0,  1,  0,  3,  1,  3,  0,  1,  0],\n",
       "       [ 0, 73,  1,  1,  1,  1,  2, 15,  1,  0,  1],\n",
       "       [ 2,  3, 91,  0,  0,  1,  1,  2,  2,  0,  2],\n",
       "       [ 0,  0,  0, 35,  0,  2,  3,  4,  0,  0,  0],\n",
       "       [ 1,  0,  0,  0, 18, 10,  3,  0,  0,  0,  0],\n",
       "       [ 1,  2,  0,  2,  0, 84,  2,  2,  1,  0,  1],\n",
       "       [ 0,  7,  2,  1,  0,  3, 68, 15,  0,  0,  0],\n",
       "       [ 4,  7,  3,  2,  0,  3,  9, 64,  0,  0,  0],\n",
       "       [ 1,  0,  1,  0,  0,  0,  0,  1, 88,  0,  0],\n",
       "       [ 1,  2,  1,  1,  0,  3,  0,  2,  0, 33,  5],\n",
       "       [ 1,  0,  0,  0,  0,  0,  2,  3,  0,  0, 95]], dtype=int64)"
      ]
     },
     "execution_count": 92,
     "metadata": {},
     "output_type": "execute_result"
    }
   ],
   "source": [
    "confusion_matrix(y_test , y_pred)"
   ]
  },
  {
   "cell_type": "code",
   "execution_count": 94,
   "metadata": {},
   "outputs": [],
   "source": [
    "#save the model\n",
    "\n",
    "import pickle\n",
    "\n",
    "pickle.dump(log , open('nepalimodel.pickle' ,'wb'))"
   ]
  },
  {
   "cell_type": "code",
   "execution_count": 95,
   "metadata": {},
   "outputs": [],
   "source": [
    "#get user input\n",
    "\n",
    "def get_user_input(text):\n",
    "    \n",
    "    text_train=  tfidf.transform([text])\n",
    "    \n",
    "    text_predict = log.predict(text_train)\n",
    "    \n",
    "    return text_predict"
   ]
  },
  {
   "cell_type": "code",
   "execution_count": 111,
   "metadata": {},
   "outputs": [
    {
     "data": {
      "text/plain": [
       "array(['sports'], dtype=object)"
      ]
     },
     "execution_count": 111,
     "metadata": {},
     "output_type": "execute_result"
    }
   ],
   "source": [
    "#works like a butter\n",
    "get_user_input('धेरै गोल हानेर गेम जितियो')"
   ]
  },
  {
   "cell_type": "code",
   "execution_count": 112,
   "metadata": {},
   "outputs": [
    {
     "data": {
      "text/plain": [
       "array(['society'], dtype=object)"
      ]
     },
     "execution_count": 112,
     "metadata": {},
     "output_type": "execute_result"
    }
   ],
   "source": [
    "get_user_input('सरकारले देशलाई गरीब बनाएर छोडे ')"
   ]
  },
  {
   "cell_type": "code",
   "execution_count": 113,
   "metadata": {},
   "outputs": [
    {
     "data": {
      "text/plain": [
       "array(['technology'], dtype=object)"
      ]
     },
     "execution_count": 113,
     "metadata": {},
     "output_type": "execute_result"
    }
   ],
   "source": [
    "get_user_input('नयाँ मोबाइल ')"
   ]
  },
  {
   "cell_type": "code",
   "execution_count": 114,
   "metadata": {},
   "outputs": [
    {
     "data": {
      "text/plain": [
       "array(['society'], dtype=object)"
      ]
     },
     "execution_count": 114,
     "metadata": {},
     "output_type": "execute_result"
    }
   ],
   "source": [
    "get_user_input('कोरोनाको महमारी')"
   ]
  },
  {
   "cell_type": "code",
   "execution_count": 117,
   "metadata": {},
   "outputs": [
    {
     "data": {
      "text/plain": [
       "array(['society'], dtype=object)"
      ]
     },
     "execution_count": 117,
     "metadata": {},
     "output_type": "execute_result"
    }
   ],
   "source": [
    "get_user_input('रुघा र खोकी  ')"
   ]
  },
  {
   "cell_type": "code",
   "execution_count": null,
   "metadata": {},
   "outputs": [],
   "source": []
  },
  {
   "cell_type": "code",
   "execution_count": null,
   "metadata": {},
   "outputs": [],
   "source": []
  }
 ],
 "metadata": {
  "kernelspec": {
   "display_name": "Python 3",
   "language": "python",
   "name": "python3"
  },
  "language_info": {
   "codemirror_mode": {
    "name": "ipython",
    "version": 3
   },
   "file_extension": ".py",
   "mimetype": "text/x-python",
   "name": "python",
   "nbconvert_exporter": "python",
   "pygments_lexer": "ipython3",
   "version": "3.8.3"
  }
 },
 "nbformat": 4,
 "nbformat_minor": 4
}
