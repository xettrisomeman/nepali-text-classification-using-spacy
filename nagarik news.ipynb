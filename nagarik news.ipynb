{
 "cells": [
  {
   "cell_type": "code",
   "execution_count": 99,
   "metadata": {},
   "outputs": [],
   "source": [
    "import glob\n",
    "import re"
   ]
  },
  {
   "cell_type": "code",
   "execution_count": 100,
   "metadata": {},
   "outputs": [],
   "source": [
    "categories = ['art' , 'economy' , 'foreign' , 'health' ,'interview' , 'opinion' , 'politics' ,\n",
    "              'society' , 'sports' ,'technology' , 'world' ]"
   ]
  },
  {
   "cell_type": "code",
   "execution_count": 101,
   "metadata": {},
   "outputs": [],
   "source": [
    "data = []\n",
    "\n",
    "\n",
    "for i, filename in enumerate(categories):\n",
    "    path = f'nagarik/{filename}/*.txt'\n",
    "    files = glob.glob(path)\n",
    "    for j , file in enumerate(files):\n",
    "        with open(file  ,'r' , encoding='utf-8') as f:\n",
    "            data.append((f.read() , filename))"
   ]
  },
  {
   "cell_type": "code",
   "execution_count": 103,
   "metadata": {},
   "outputs": [],
   "source": [
    "punct = [\n",
    "    ',',\n",
    "    '.',\n",
    "    '?',\n",
    "    '\\'',\n",
    "    '\\n',\n",
    "    '\\t',\n",
    "    '}',\n",
    "    '{',\n",
    "    '|',\n",
    "    '>',\n",
    "    '<',\n",
    "    '-',\n",
    "    '_',\n",
    "    '=',\n",
    "    '+',\n",
    "    '*',\n",
    "    '$'\n",
    "]"
   ]
  },
  {
   "cell_type": "code",
   "execution_count": 104,
   "metadata": {},
   "outputs": [],
   "source": [
    "import pandas as pd\n",
    "\n",
    "df = pd.DataFrame(data , columns=['Text' , 'Label'])\n"
   ]
  },
  {
   "cell_type": "code",
   "execution_count": 105,
   "metadata": {},
   "outputs": [
    {
     "data": {
      "text/html": [
       "<div>\n",
       "<style scoped>\n",
       "    .dataframe tbody tr th:only-of-type {\n",
       "        vertical-align: middle;\n",
       "    }\n",
       "\n",
       "    .dataframe tbody tr th {\n",
       "        vertical-align: top;\n",
       "    }\n",
       "\n",
       "    .dataframe thead th {\n",
       "        text-align: right;\n",
       "    }\n",
       "</style>\n",
       "<table border=\"1\" class=\"dataframe\">\n",
       "  <thead>\n",
       "    <tr style=\"text-align: right;\">\n",
       "      <th></th>\n",
       "      <th>Text</th>\n",
       "      <th>Label</th>\n",
       "    </tr>\n",
       "  </thead>\n",
       "  <tbody>\n",
       "    <tr>\n",
       "      <th>0</th>\n",
       "      <td>मकवानपुर – फिल्म ‘हुर्रे’ले रिलिज मिति नजिकिएस...</td>\n",
       "      <td>art</td>\n",
       "    </tr>\n",
       "    <tr>\n",
       "      <th>1</th>\n",
       "      <td>काठमाडौं – मोक्षदा स्कुलको मञ्जरी थिएटरमा उड्क...</td>\n",
       "      <td>art</td>\n",
       "    </tr>\n",
       "    <tr>\n",
       "      <th>2</th>\n",
       "      <td>कठमाडौं – रसियाको नोभोसिबिर्सक सहरमा भइरहेको ‘...</td>\n",
       "      <td>art</td>\n",
       "    </tr>\n",
       "    <tr>\n",
       "      <th>3</th>\n",
       "      <td>मुम्बई – चर्चित अभिनेत्री रानी मुखर्जीले बलिउड...</td>\n",
       "      <td>art</td>\n",
       "    </tr>\n",
       "    <tr>\n",
       "      <th>4</th>\n",
       "      <td>मुम्बई – साउथ इण्डियनतर्फको मलयालम फिल्मको एकै...</td>\n",
       "      <td>art</td>\n",
       "    </tr>\n",
       "  </tbody>\n",
       "</table>\n",
       "</div>"
      ],
      "text/plain": [
       "                                                Text Label\n",
       "0  मकवानपुर – फिल्म ‘हुर्रे’ले रिलिज मिति नजिकिएस...   art\n",
       "1  काठमाडौं – मोक्षदा स्कुलको मञ्जरी थिएटरमा उड्क...   art\n",
       "2  कठमाडौं – रसियाको नोभोसिबिर्सक सहरमा भइरहेको ‘...   art\n",
       "3  मुम्बई – चर्चित अभिनेत्री रानी मुखर्जीले बलिउड...   art\n",
       "4  मुम्बई – साउथ इण्डियनतर्फको मलयालम फिल्मको एकै...   art"
      ]
     },
     "execution_count": 105,
     "metadata": {},
     "output_type": "execute_result"
    }
   ],
   "source": [
    "df.head()"
   ]
  },
  {
   "cell_type": "code",
   "execution_count": 106,
   "metadata": {},
   "outputs": [
    {
     "data": {
      "text/plain": [
       "(4481, 2)"
      ]
     },
     "execution_count": 106,
     "metadata": {},
     "output_type": "execute_result"
    }
   ],
   "source": [
    "df.shape"
   ]
  },
  {
   "cell_type": "code",
   "execution_count": 107,
   "metadata": {},
   "outputs": [
    {
     "data": {
      "text/plain": [
       "Text     0\n",
       "Label    0\n",
       "dtype: int64"
      ]
     },
     "execution_count": 107,
     "metadata": {},
     "output_type": "execute_result"
    }
   ],
   "source": [
    "df.isnull().sum()"
   ]
  },
  {
   "cell_type": "code",
   "execution_count": 108,
   "metadata": {},
   "outputs": [
    {
     "data": {
      "text/plain": [
       "economy       510\n",
       "opinion       507\n",
       "foreign       498\n",
       "society       494\n",
       "politics      483\n",
       "world         478\n",
       "art           467\n",
       "sports        413\n",
       "technology    238\n",
       "interview     201\n",
       "health        192\n",
       "Name: Label, dtype: int64"
      ]
     },
     "execution_count": 108,
     "metadata": {},
     "output_type": "execute_result"
    }
   ],
   "source": [
    "df.Label.value_counts()"
   ]
  },
  {
   "cell_type": "code",
   "execution_count": 109,
   "metadata": {},
   "outputs": [],
   "source": [
    "import spacy\n",
    "from spacy.lang import ne\n",
    "from spacy.lang.ne.stop_words import STOP_WORDS"
   ]
  },
  {
   "cell_type": "code",
   "execution_count": 110,
   "metadata": {},
   "outputs": [],
   "source": [
    "stopwords = list(STOP_WORDS)"
   ]
  },
  {
   "cell_type": "code",
   "execution_count": 111,
   "metadata": {},
   "outputs": [],
   "source": [
    "X = df['Text']\n",
    "y = df['Label']"
   ]
  },
  {
   "cell_type": "code",
   "execution_count": 133,
   "metadata": {},
   "outputs": [
    {
     "data": {
      "text/plain": [
       "((4481,), (4481,))"
      ]
     },
     "execution_count": 133,
     "metadata": {},
     "output_type": "execute_result"
    }
   ],
   "source": [
    "X.shape , y.shape"
   ]
  },
  {
   "cell_type": "code",
   "execution_count": 241,
   "metadata": {},
   "outputs": [],
   "source": [
    "import re\n",
    "def change_into_tokens(text):\n",
    "    \n",
    "    tokens =[]\n",
    "    text = re.sub('\\s+' ,' ',text)\n",
    "    text = re.sub(\"–\" ,'',text)\n",
    "    text = re.sub(\"।\" ,'', text)\n",
    "    text = re.sub('!' ,'', text)\n",
    "    \n",
    "    text = text.split(' ')\n",
    "    \n",
    "    for token in text:\n",
    "        if token not in stopwords:\n",
    "            tokens.append(token)\n",
    "        \n",
    "    return tokens"
   ]
  },
  {
   "cell_type": "code",
   "execution_count": 242,
   "metadata": {},
   "outputs": [],
   "source": [
    "text = 'मकवानपुर – !?!फिल्म ‘?हुर्रे’!)!!'"
   ]
  },
  {
   "cell_type": "code",
   "execution_count": 243,
   "metadata": {},
   "outputs": [
    {
     "data": {
      "text/plain": [
       "['मकवानपुर',\n",
       " '',\n",
       " 'फिल्म',\n",
       " '‘हुर्रे’ले',\n",
       " 'रिलिज',\n",
       " 'मिति',\n",
       " 'नजिकिएसँगै',\n",
       " 'प्रचारप्रसारमा',\n",
       " 'तीव्रता',\n",
       " '',\n",
       " 'शनिबार',\n",
       " 'हेटौंडा',\n",
       " 'आइपुगेको',\n",
       " 'फिल्मको',\n",
       " 'निर्माता',\n",
       " 'कलाकारको',\n",
       " 'टोलीले',\n",
       " 'फिल्म',\n",
       " 'हास्यप्रधान',\n",
       " 'रहे',\n",
       " 'पृथक',\n",
       " 'कथाबस्तुमा',\n",
       " 'निर्माण',\n",
       " '',\n",
       " 'फिल्मको',\n",
       " 'प्रचारका',\n",
       " 'देश',\n",
       " 'दौडाहामा',\n",
       " 'फिल्मको',\n",
       " 'टोली',\n",
       " 'पोखरा,',\n",
       " 'बुटवल,',\n",
       " 'चितवनपछि',\n",
       " 'हेटौंडा',\n",
       " 'आइपुगेको',\n",
       " 'हेटौंडामा',\n",
       " 'आयोजित',\n",
       " 'अन्तरक्रियामा',\n",
       " 'अभिनेता',\n",
       " 'अनुपविक्रम',\n",
       " 'शाहीले',\n",
       " 'फिल्म',\n",
       " 'मनोरञ्जक',\n",
       " 'अभिनेत्री',\n",
       " 'केकी',\n",
       " 'अधिकारीले',\n",
       " 'फिल्मभित्र',\n",
       " 'मोहमा',\n",
       " 'फसाएर',\n",
       " 'राख्ने',\n",
       " 'स्वर्गकी',\n",
       " 'अप्सरा',\n",
       " '‘मेनका’को',\n",
       " 'भूमिकामा',\n",
       " 'बताइन्',\n",
       " '',\n",
       " 'हास्य',\n",
       " 'कलाकार',\n",
       " 'राजाराम',\n",
       " 'पौडेलले',\n",
       " 'महिना',\n",
       " 'सुटिङ',\n",
       " 'आर्यघाटको',\n",
       " 'धुँवाले',\n",
       " 'कलाकारहरू',\n",
       " 'बिरामी',\n",
       " 'परेको',\n",
       " '',\n",
       " '‘फिल्म',\n",
       " 'हेरेपछि',\n",
       " 'हाँस्दाहाँस्दा',\n",
       " 'भोक',\n",
       " 'लाग्छ,',\n",
       " 'रमाइलो',\n",
       " 'भने,',\n",
       " '‘सबै',\n",
       " 'फिल्ममा',\n",
       " 'सन्देश',\n",
       " 'राख्दा',\n",
       " 'मजा',\n",
       " 'हुँदैन,',\n",
       " 'सन्देश',\n",
       " 'खोज्ने',\n",
       " 'पुराण',\n",
       " 'सुने',\n",
       " 'भैगो',\n",
       " 'नि’',\n",
       " 'यम',\n",
       " 'थापाको',\n",
       " 'लेखन',\n",
       " 'निर्देशन',\n",
       " 'फिल्ममा',\n",
       " 'अनुपविक्रम',\n",
       " 'शाही,',\n",
       " 'केकी',\n",
       " 'अधिकारी,',\n",
       " 'बिजय',\n",
       " 'बराल,',\n",
       " 'अंकित',\n",
       " 'खड्का,',\n",
       " 'संगीता',\n",
       " 'नापित',\n",
       " 'लगायतको',\n",
       " 'अभिनय',\n",
       " '',\n",
       " 'फागुनको',\n",
       " '२५',\n",
       " 'गतेबाट',\n",
       " 'प्रदर्शित',\n",
       " 'फिल्मलाई',\n",
       " 'याखा',\n",
       " 'इन्टरटेनमेन्टको',\n",
       " 'ब्यानरमा',\n",
       " 'दावा',\n",
       " 'शेर्पा,',\n",
       " 'सोनम',\n",
       " 'लामा',\n",
       " 'भ्लोन',\n",
       " 'छिरिङ',\n",
       " 'दोर्जे',\n",
       " 'शेर्पाले',\n",
       " 'निर्माण',\n",
       " '']"
      ]
     },
     "execution_count": 243,
     "metadata": {},
     "output_type": "execute_result"
    }
   ],
   "source": [
    "change_into_tokens(X[0])"
   ]
  },
  {
   "cell_type": "code",
   "execution_count": 247,
   "metadata": {},
   "outputs": [],
   "source": [
    "#use tfidfvectorizer\n",
    "\n",
    "from sklearn.feature_extraction.text import TfidfVectorizer\n",
    "from sklearn.model_selection import train_test_split"
   ]
  },
  {
   "cell_type": "code",
   "execution_count": 245,
   "metadata": {},
   "outputs": [],
   "source": [
    "tfidf = TfidfVectorizer(tokenizer=change_into_tokens)"
   ]
  },
  {
   "cell_type": "code",
   "execution_count": 246,
   "metadata": {},
   "outputs": [],
   "source": [
    "vectorizer = tfidf.fit_transform(X)"
   ]
  },
  {
   "cell_type": "code",
   "execution_count": 249,
   "metadata": {},
   "outputs": [],
   "source": [
    "#now split the dataset\n",
    "\n",
    "X_train , X_test , y_train ,y_test = train_test_split(vectorizer , y , test_size=0.2 , shuffle=True , random_state=42)"
   ]
  },
  {
   "cell_type": "code",
   "execution_count": 250,
   "metadata": {},
   "outputs": [
    {
     "data": {
      "text/plain": [
       "((3584, 164453), (897, 164453))"
      ]
     },
     "execution_count": 250,
     "metadata": {},
     "output_type": "execute_result"
    }
   ],
   "source": [
    "X_train.shape , X_test.shape"
   ]
  },
  {
   "cell_type": "code",
   "execution_count": 260,
   "metadata": {},
   "outputs": [],
   "source": [
    "from sklearn.linear_model import LogisticRegression\n",
    "from sklearn.naive_bayes import BernoulliNB\n",
    "\n",
    "clf = LogisticRegression(multi_class=\"multinomial\")"
   ]
  },
  {
   "cell_type": "code",
   "execution_count": 261,
   "metadata": {},
   "outputs": [
    {
     "data": {
      "text/plain": [
       "LogisticRegression(multi_class='multinomial')"
      ]
     },
     "execution_count": 261,
     "metadata": {},
     "output_type": "execute_result"
    }
   ],
   "source": [
    "clf.fit(X_train,y_train)"
   ]
  },
  {
   "cell_type": "code",
   "execution_count": 262,
   "metadata": {},
   "outputs": [],
   "source": [
    "y_pred=clf.predict(X_test) "
   ]
  },
  {
   "cell_type": "code",
   "execution_count": 272,
   "metadata": {},
   "outputs": [],
   "source": [
    "from sklearn.metrics import accuracy_score , classification_report , confusion_matrix"
   ]
  },
  {
   "cell_type": "code",
   "execution_count": 273,
   "metadata": {},
   "outputs": [
    {
     "name": "stdout",
     "output_type": "stream",
     "text": [
      "0.8149386845039019\n"
     ]
    }
   ],
   "source": [
    "print(accuracy_score(y_pred , y_test)) "
   ]
  },
  {
   "cell_type": "code",
   "execution_count": 277,
   "metadata": {},
   "outputs": [
    {
     "data": {
      "text/plain": [
       "'              precision    recall  f1-score   support\\n\\n         art       0.90      0.89      0.89        98\\n     economy       0.74      0.75      0.75        96\\n     foreign       0.90      0.88      0.89       104\\n      health       0.85      0.77      0.81        44\\n   interview       0.95      0.56      0.71        32\\n     opinion       0.78      0.88      0.83        95\\n    politics       0.75      0.70      0.72        96\\n     society       0.55      0.71      0.62        92\\n      sports       0.96      0.96      0.96        91\\n  technology       0.97      0.65      0.78        48\\n       world       0.90      0.94      0.92       101\\n\\n    accuracy                           0.81       897\\n   macro avg       0.84      0.79      0.81       897\\nweighted avg       0.83      0.81      0.82       897\\n'"
      ]
     },
     "execution_count": 277,
     "metadata": {},
     "output_type": "execute_result"
    }
   ],
   "source": [
    "classification_report(y_test , y_pred)"
   ]
  },
  {
   "cell_type": "code",
   "execution_count": 278,
   "metadata": {},
   "outputs": [
    {
     "data": {
      "text/plain": [
       "array([[87,  1,  1,  1,  0,  3,  1,  3,  0,  1,  0],\n",
       "       [ 0, 72,  1,  0,  1,  0,  2, 18,  1,  0,  1],\n",
       "       [ 2,  3, 91,  0,  0,  1,  1,  2,  2,  0,  2],\n",
       "       [ 0,  0,  0, 34,  0,  2,  3,  5,  0,  0,  0],\n",
       "       [ 1,  0,  0,  0, 18, 10,  3,  0,  0,  0,  0],\n",
       "       [ 1,  2,  0,  2,  0, 84,  2,  2,  1,  0,  1],\n",
       "       [ 0,  8,  2,  0,  0,  3, 67, 16,  0,  0,  0],\n",
       "       [ 4,  7,  3,  2,  0,  3,  8, 65,  0,  0,  0],\n",
       "       [ 1,  0,  2,  0,  0,  0,  0,  1, 87,  0,  0],\n",
       "       [ 0,  4,  1,  1,  0,  2,  0,  3,  0, 31,  6],\n",
       "       [ 1,  0,  0,  0,  0,  0,  2,  3,  0,  0, 95]], dtype=int64)"
      ]
     },
     "execution_count": 278,
     "metadata": {},
     "output_type": "execute_result"
    }
   ],
   "source": [
    "confusion_matrix(y_test , y_pred)"
   ]
  },
  {
   "cell_type": "code",
   "execution_count": 280,
   "metadata": {},
   "outputs": [],
   "source": [
    "#damn this worked well\n",
    "#now lets test a data"
   ]
  },
  {
   "cell_type": "code",
   "execution_count": null,
   "metadata": {},
   "outputs": [],
   "source": []
  },
  {
   "cell_type": "code",
   "execution_count": null,
   "metadata": {},
   "outputs": [],
   "source": []
  },
  {
   "cell_type": "code",
   "execution_count": null,
   "metadata": {},
   "outputs": [],
   "source": []
  },
  {
   "cell_type": "code",
   "execution_count": null,
   "metadata": {},
   "outputs": [],
   "source": []
  },
  {
   "cell_type": "code",
   "execution_count": null,
   "metadata": {},
   "outputs": [],
   "source": []
  }
 ],
 "metadata": {
  "kernelspec": {
   "display_name": "Python 3",
   "language": "python",
   "name": "python3"
  },
  "language_info": {
   "codemirror_mode": {
    "name": "ipython",
    "version": 3
   },
   "file_extension": ".py",
   "mimetype": "text/x-python",
   "name": "python",
   "nbconvert_exporter": "python",
   "pygments_lexer": "ipython3",
   "version": "3.8.3"
  }
 },
 "nbformat": 4,
 "nbformat_minor": 4
}
